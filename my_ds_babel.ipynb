{
  "nbformat": 4,
  "nbformat_minor": 0,
  "metadata": {
    "colab": {
      "provenance": [],
      "collapsed_sections": [],
      "include_colab_link": true
    },
    "kernelspec": {
      "name": "python3",
      "display_name": "Python 3"
    },
    "language_info": {
      "name": "python"
    }
  },
  "cells": [
    {
      "cell_type": "markdown",
      "metadata": {
        "id": "view-in-github",
        "colab_type": "text"
      },
      "source": [
        "<a href=\"https://colab.research.google.com/github/umidyor/my_model_evaluation_journey_r2_score/blob/main/my_ds_babel.ipynb\" target=\"_parent\"><img src=\"https://colab.research.google.com/assets/colab-badge.svg\" alt=\"Open In Colab\"/></a>"
      ]
    },
    {
      "cell_type": "code",
      "execution_count": null,
      "metadata": {
        "id": "QnAss2v3XYnm",
        "colab": {
          "base_uri": "https://localhost:8080/"
        },
        "outputId": "9c59d936-8081-46dd-82ea-9dd60ec15282"
      },
      "outputs": [
        {
          "output_type": "stream",
          "name": "stdout",
          "text": [
            "--2022-09-22 14:01:16--  https://storage.googleapis.com/qwasar-public/track-ds/list_volcano.csv\n",
            "Resolving storage.googleapis.com (storage.googleapis.com)... 142.251.2.128, 2607:f8b0:4023:c0d::80, 2607:f8b0:4023:c0b::80\n",
            "Connecting to storage.googleapis.com (storage.googleapis.com)|142.251.2.128|:443... connected.\n",
            "HTTP request sent, awaiting response... 200 OK\n",
            "Length: 21474 (21K) [text/csv]\n",
            "Saving to: ‘list_volcano.csv’\n",
            "\n",
            "list_volcano.csv    100%[===================>]  20.97K  --.-KB/s    in 0s      \n",
            "\n",
            "2022-09-22 14:01:16 (116 MB/s) - ‘list_volcano.csv’ saved [21474/21474]\n",
            "\n",
            "--2022-09-22 14:01:16--  https://storage.googleapis.com/qwasar-public/track-ds/all_fault_line.db\n",
            "Resolving storage.googleapis.com (storage.googleapis.com)... 142.251.2.128, 2607:f8b0:4023:c0d::80, 2607:f8b0:4023:c0b::80\n",
            "Connecting to storage.googleapis.com (storage.googleapis.com)|142.251.2.128|:443... connected.\n",
            "HTTP request sent, awaiting response... 200 OK\n",
            "Length: 20480 (20K) [application/octet-stream]\n",
            "Saving to: ‘all_fault_line.db’\n",
            "\n",
            "all_fault_line.db   100%[===================>]  20.00K  --.-KB/s    in 0s      \n",
            "\n",
            "2022-09-22 14:01:17 (120 MB/s) - ‘all_fault_line.db’ saved [20480/20480]\n",
            "\n"
          ]
        }
      ],
      "source": [
        "!wget 'https://storage.googleapis.com/qwasar-public/track-ds/list_volcano.csv'  \n",
        "!wget 'https://storage.googleapis.com/qwasar-public/track-ds/all_fault_line.db'"
      ]
    },
    {
      "cell_type": "code",
      "source": [
        "import pandas as pd\n",
        "import csv\n",
        "import sqlite3 as sql\n"
      ],
      "metadata": {
        "id": "uHhS8RZg8U3A"
      },
      "execution_count": null,
      "outputs": []
    },
    {
      "cell_type": "code",
      "source": [
        "def sql_to_csv(database, table_name):\n",
        "  connection = sql.connect(database)\n",
        "  df = pd.read_sql(f\"select * from {table_name}\", connection)\n",
        "  df.to_csv(\"my_csv.csv\", index=False)\n",
        "  with open(\"my_csv.csv\", \"r\") as file:\n",
        "    return file.read()[:-1]\n",
        "\n",
        "print(sql_to_csv(\"all_fault_line.db\",'fault_lines'))"
      ],
      "metadata": {
        "colab": {
          "base_uri": "https://localhost:8080/"
        },
        "id": "QCdXx_4Y-IOU",
        "outputId": "cc5796a8-2c66-4444-942c-4fc3de882edc"
      },
      "execution_count": null,
      "outputs": [
        {
          "output_type": "stream",
          "name": "stdout",
          "text": [
            "fault_name,length,location,sense_of_movement,time_of_movement,associated_earthquakes\n",
            "Aedipsos-Kandili Fault,60,North Euboean Gulf - Greece,Normal,Active,\n",
            "Alaska-Aleutian Megathrust,3600,Kamchatka - Russia to Gulf of Alaska,Subduction zone,Active,1964 Prince William Sound (M9.2) - 1965 Rat Islands (M8.7) - 1957 Andreanof Islands (M8.6)\n",
            "Alpine Fault,1400,South Island - New Zealand,Dextral strike-slip,Active,2009 Fiordland (M7.8)\n",
            "Altyn Tagh Fault,1200,Tibetan Plateau/Tarim Basin,Sinistral strike-slip,Active,\n",
            "Amfilochia Fault,60,Western Greece,Sinistral strike-slip,Active,\n",
            "Amorgos Fault,>100,Greece - South Aegean Sea,Normal,Active,1956 Amorgos (M7.4)[1]\n",
            "Arkitsa – Agios Konstantinos Fault zone,25,Central Greece,Normal,,\n",
            "Aspy Fault,40,Nova Scotia,Strike-slip,,\n",
            "Atacama Fault,800,Atacama desert - Chile,Strike-slip,Active,\n",
            "Atalanti Fault,50,Central Greece,Normal Fault,Active,1894 Atalanti (M6.4 - M6.9)\n",
            "Atotsugawa Fault,Japan,Dextral strike-slip,Active,1858 Hietsu earthquake (M~7),\n",
            "Awatere Fault,South Island - New Zealand,Dextral strike-slip,Active,1848 Marlborough (M7.5),\n",
            "Azores–Gibraltar Transform Fault,2250,Azores to Strait of Gibraltar,Dextral strike-slip,Active,1755 Lisbon earthquake (est. M7.5–8.0) - 1969 Cape St. Vincent (M7.9) - 1941 Gloria Fault (M8.0)\n",
            "Baikal Rift Zone,Lake Baikal,Rift zone,Active,,\n",
            "Ballenas Fault,Gulf of California - United States,Transform,Active,,\n",
            "Brothers Fault Zone,Oregon - United States,,,,\n",
            "Cascadia megathrust,1000,West coast of United States – Oregon & Washington Vancouver Island Canada,Subduction zone,Active,1700 Cascadia (M9.0)\n",
            "Central African Shear Zone,4000,Central Africa,Rift zone,,\n",
            "Cerro Prieto Fault,Gulf of California - United States,Transform,Active,,\n",
            "Chixoy-Polochic Fault,Guatemala,Transform,Active,1816 Guatemala (M7.5)[2],\n",
            "Christchurch Fault,South Island - New Zealand,Active,,,\n",
            "Chile subduction megathrust,3000,West coast of Chile,Subduction zone,Active,1960 Valdivia (M9.5); 1906 Valparaiso (M8.2); 2010 Maule (M8.8); 2014 Iquique (M8.2)\n",
            "Clarence Fault,South Island - New Zealand,Dextral strike-slip,Active,,\n",
            "Clarendon-Linden fault system,New York - United States,,,,\n",
            "Clayton-Marsh Creek-Greenville Fault,California - United States,,,,\n",
            "Cochabamba Fault Zone,Bolivia,Sinistral strike-slip,,,\n",
            "Corinth Rift,110,Greece,Normal Fault,Active,1995 Aegion (M6.2); 1981 Alkyonides; 1861 Helike; 373 BC Helike\n",
            "Craven Fault System,Pennines,Normal Fault,Carboniferous,,\n",
            "Darling Fault,950-1500,Western Australia - Australia,Proterozoic,,\n",
            "Dead Sea Transform,Sinai Peninsula,Sinistral transform,Active,1138 Aleppo earthquake,\n",
            "Delfi Fault Zone,25,Central Greece,Normal to strike-slip,,\n",
            "Denali Fault,British Columbia - Canada to Alaska - United States,Dextral strike-slip,Active,2002 Denali (M7.9),\n",
            "East Anatolian Fault,Turkey,Strike-slip,Active,2003 Bingöl (M6.4) - 2010 Elâzığ (M6.1),\n",
            "Eastern Tennessee Seismic Zone,Alabama to Virginia - United States,Active,2003 Alabama (M4.6),,\n",
            "Elsinore Fault Zone,180,California - United States,Dextral strike-slip,Active,\n",
            "Eltanin Fault System,Southern Ocean,Dextral transform,Active,1600 km offset,\n",
            "Enriquillo-Plantain Garden fault zone,Hispaniola,Sinistral strike-slip,Active,2010 Haiti (M7.0),\n",
            "Glarus thrust,Switzerland,Thrust fault,Cenozoic,,\n",
            "Great Glen Fault,Scotland,Strike-slip,Silurian to Cenozoic,,\n",
            "Great Lakes Tectonic Zone (GLTZ),1 -400,Great Lakes - United States,Tectonic zone,Neoarchean,\n",
            "Great Sumatran Fault,Sumatra - Indonesia,Strike-slip,Active,1943 Alahan Panjang (M7.2) - 1994 Liwa (M7.0),\n",
            "Greendale Fault,South Island - New Zealand,Dextral strike-slip,Active,2010 Canterbury (M7.1),\n",
            "Guaymas Fault,325,California - United States,Dextral strike-slip,Active,\n",
            "Gulf of California Rift Zone,1300,Mexico,Rift zone,Active,2010 Mexicali (M7.2)\n",
            "Hayward Fault Zone,119,San Francisco Bay - California - United States,Strike-slip,Active,1868 Hayward (M6.3–6.7)\n",
            "Hellenic Arc,1000,East Mediterranean Sea,Thrust/Strike-slip,365 AD (M8.5+); 1303 AD (~8),\n",
            "Honey Lake Fault Zone,Nevada and California - United States,Dextral strike-slip,Active,,\n",
            "Hope Fault,South Island - New Zealand,Dextral strike-slip,Active,1888 North Canterbury (M7.3),\n",
            "Humboldt Fault Zone,Nebraska to Kansas - United States,Normal fault,Active,1867 Manhattan - Kansas (M5.1),\n",
            "Imperial Fault Zone,California - United States,Dextral strike-slip,Active,1940 El Centro (M6.9) - 1979 Imperial Valley (M6.4),\n",
            "Ierapetra Fault,40,Crete,Normal Fault,,\n",
            "Independence Valley fault system,Nevada - United States,Normal fault,Active,2008 Wells earthquake (M6.0),\n",
            "Kameni-Kolumbo Fault zone,>60,Greece - South Aegean Sea,Dextral (?) Strike-slip,,\n",
            "Kandi Fault Zone,West Africa,,,,\n",
            "Karsdorf Fault,Germany,,,,\n",
            "Kego Fault,Japan,Active,2005 Fukuoka (M7.0),,\n",
            "Kefalonia Transform Fault,180,Greece - Ionian Sea,Dextral strike Slip,Active,1953 Kephalonia (M7.2)\n",
            "Kermadec-Tonga Subduction Zone,New Zealand,Subduction zone,Active,,\n",
            "Kern Canyon Fault,Sierra Nevada - California - United States,Thrust fault,,,\n",
            "Kunlun fault,1500,Tibet,Sinistral strike-slip,Active,2001 Kunlun (M7.8)\n",
            "Laguna Salada Fault,64–80,United States and Mexico,Strike-slip,Active,2010 Mexicali M7.2)\n",
            "Laptev Sea Rift,Arctic Ocean,Rift zone,,,\n",
            "Liquiñe-Ofqui Fault,1000,Andes - Chile,Strike-slip,,\n",
            "Long Point–Eureka Heights Fault System,Texas - United States,Normal fault,,,\n",
            "Longmen Shan Fault,Sichuan - China,Thrust fault,Active,2008 Sichuan (M8.0),\n",
            "Lusatian Fault,Germany,Thrust fault,,,\n",
            "Macquarie Fault Zone,South Pacific Ocean,Strike-slip,Active,2008 Macquarie Island earthquake (M7.1),\n",
            "Magallanes–Fagnano Fault,South America,Transform,,,\n",
            "Main Uralian Fault (MUF),2000+,Urals,Subduction zone,,\n",
            "Marianna Fault,Arkansas - United States,,,,\n",
            "Marikina Valley Fault System,Philippines,Dextral strike-slip,active,,\n",
            "Marlborough Fault System,South Island - New Zealand,Dextral strike-slip,Active,1843 Wanganui (M~7.5),\n",
            "Meers Fault,Oklahoma,Oblique slipe,Active,Holocene,\n",
            "Mendocino Fracture Zone,California - United States,Transform,Active,,\n",
            "Moab Fault,Utah - United States,Normal fault,Active,,\n",
            "Mocha Fracture Zone,Mocha Island - Chile,Transform,Active,,\n",
            "Motagua Fault,Guatemala,Transform,Active,1717 - 1773 - 1902 - 1976 - 1980 - 2009,\n",
            "Mygdonia Graben,North Greece,Normal to strike-slip,Active,1978 Thessaloniki (M6.4),\n",
            "Neodani Fault,Japan,Active,1891 Mino–Owari (M8.0),,\n",
            "New Madrid Fault Zone,Missouri - United States,Normal fault,Active,1811–1812 three (M7-8),\n",
            "Nootka Fault,British Columbia - Canada,Transform,Active,,\n",
            "North Aegean Trough,>250,North Aegean Sea - Greece - Turkey,Dextral strike-slip,Active,1912 (M7.6); 1982 (M6.7); 2014 (M6.9)\n",
            "North Anatolian Fault,Turkey,Dextral strike-slip,Active,1939 Erzincan (M7.8) - 1912 Ganos (M7.4) - 1999 Izmit (M7.4) - 1999 Düzce (M7.2),\n",
            "North Ikaria Fault,>80,Central Aegean Sea - Greece,Dextral strike slip,,\n",
            "North Island Fault System,500,North Island - New Zealand,Dextral strike slip,Active,\n",
            "Palu-Koro Fault,500,Palu - Sigi - Donggala - Indonesia,Sinistral strike-slip,Active,2005 Bora - Sigi earthquake (M6.2) - 2018 Sulawesi earthquake (M7.5)\n",
            "Periadriatic Seam,1000,Alps - Europe,Dextral strike-slip,,\n",
            "Pichilemu Fault,40,Chile,Active,2010 Pichilemu (Libertador O'Higgins) (M6.9),\n",
            "Pliny Trench,300,Eastern Mediterranean Sea - Hellenic Trench,Sinistral strike-slip,,\n",
            "Port Hills Fault,South Island - New Zealand,Active,2011 Christchurch (M6.3),,\n",
            "Pyramid Lake Fault Zone,Nevada - United States,Dextral strike-slip,,,\n",
            "Ramapo Fault,300,New York - New Jersey - Pennsylvania - United States,Normal fault,Triassic to Early Jurassic,\n",
            "Raymond Fault,California - United States,,,,\n",
            "Red Sea Rift,Red Sea,Rift zone,,,\n",
            "Reigolil-Pirihueico Fault,Andes,,,,\n",
            "Rhine Rift Valley,Germany and France,Rift zone,Active,1356 Basel (M6 to 7),\n",
            "Rio Grande Rift,Rio Grande Valley - United States and Mexico,Rift zone,,,\n",
            "Salzach-Ennstal-Mariazell-Puchberg Fault System (SEMP),400[3],Austria,Sinistral strike-slip,,\n",
            "San Andreas Fault System (Banning fault - Mission Creek fault - South Pass fault - San Jacinto fault - Elsinore fault),1300,California - United States,Dextral strike-slip,Active,1906 San Francisco (M7.7 to 8.25) - 1989 Loma Prieta (M6.9)\n",
            "San Ramón Fault,Chile,Thrust fault,,,\n",
            "Sawtooth Fault,Idaho - United States,Normal fault,,,\n",
            "Seattle Fault,Washington - United States,Thrust fault,Active,,\n",
            "Septentrional-Orient fault zone,Caribbean,Sinistral strike-slip,Active,1842 Cap-Haïtien (M8.1),\n",
            "Sierra Nevada Fault,California - United States,Normal fault,Active,1872 Lone Pine (M7.4–8.3),\n",
            "Skyros-Edremit Fault zone,>150,Aegean Sea - Greece - Turkey,Dextral Strike-slip,Active,1967 - 1981\n",
            "Sobral Fault,Brazil,Strike-slip,,,\n",
            "Sorong fault,Oceania,Sinistral strike-slip,Active,2009 Kepulauan Talaud (M7.2),\n",
            "Sparta Fault,65,Peloponnese - Greece,Normal fault,Active,464 BC Sparta (M7.2)\n",
            "Spili Fault,20,Crete - Greece,Normal fault,Active,\n",
            "Strabo Trench,300,Eastern Mediterranean Sea - Hellenic Trench,Sinistral strike-slip,Active,\n",
            "Sunda subduction megathrust,5000,South East Asia,Subduction zone,Active,2004 Banda Aceh (M9.1) - 2005 Nias (M8.6) - 2007 Bengkulu (M8.4)\n",
            "Tacoma Fault,56,Washington - United States,Thrust fault,Active,\n",
            "Tatsuda Fault,Japan,Active,1889 Kumamoto (M6.3),,\n",
            "Tintina Fault,British Columbia - Canadato Alaska - United States,Strike-slip,Late Cretaceous to Oligocene,,\n",
            "Ulakhan Fault,Siberia to Aleutian Trench,Sinistral strike-slip,Active,,\n",
            "Virginia Seismic Zone,Virginia - United States,Active,2011 Virginia (M5.8),,\n",
            "Wabash Valley Seismic Zone,Illinois - Indiana - United States,Normal fault,Active,2008 Illinois (M5.4),\n",
            "Wasatch Fault,Utah - United States,Normal fault,Active,,\n",
            "Wellington Fault,North Island - New Zealand,Dextral strike-slip,Active,,\n",
            "Wairarapa Fault,North Island - New Zealand,Dextral strike-slip,Active,1855 Wairarapa (M8.2),\n",
            "Wairau Fault,South Island - New Zealand,Dextral strike-slip,Active,,\n",
            "Wilzetta Fault,89,Oklahoma - United States,Strike-slip,Active,2011 Oklahoma (M5.6)\n"
          ]
        }
      ]
    },
    {
      "cell_type": "code",
      "source": [
        "def csv_to_sql(csv_content, database, table_name): \n",
        "    df = pd.read_csv(csv_content)\n",
        "    df = df.drop_duplicates()\n",
        "    df.columns = df.columns.str.replace(\" \", \"\")\n",
        "    connection = sql.connect(database)\n",
        "    df.to_sql(table_name, con=connection, if_exists='replace', index=False)\n",
        "    \n",
        "\n",
        "\n",
        "\n",
        "csv_content = open(\"list_volcano.csv\")\n",
        "csv_to_sql(csv_content, 'list_volcanos.db','volcanos')\n",
        "\n",
        "\n",
        "\n"
      ],
      "metadata": {
        "id": "OkJ8cKGS3S1u"
      },
      "execution_count": null,
      "outputs": []
    },
    {
      "cell_type": "code",
      "source": [
        "import sqlite3\n",
        "import pandas\n",
        "import warnings\n",
        "warnings.filterwarnings('ignore')\n",
        "\n",
        "def sql_to_csv(database, table_name):\n",
        "    conn = sqlite3.connect(database)\n",
        "    cursor = conn.cursor()\n",
        "    query = f\"select * from {table_name}\"\n",
        "    results = pandas.read_sql_query(query, conn)\n",
        "    results.to_csv(\"list_fault_lines.csv\", index=False)\n",
        "    with open(\"list_fault_lines.csv\",'r') as csvf:\n",
        "        return csvf.read()[:-1]\n",
        "\n",
        "\n",
        "def csv_to_sql(csv_content, database, table_name):\n",
        "    df = pandas.read_csv(csv_content)\n",
        "    df = df.drop_duplicates()\n",
        "    conn = sqlite3.connect(database)\n",
        "    df.to_sql(table_name, con=conn, if_exists='replace', index=False)\n",
        "\n",
        "\n",
        "\n",
        "print(sql_to_csv('all_fault_line.db','fault_lines'))\n",
        "\n",
        "csv_to_sql('list_volcano.csv', 'list_volcanos.db','volcanos')"
      ],
      "metadata": {
        "id": "KhGn_zlMZ5I8",
        "outputId": "5e3e3526-abea-42ac-995f-5f32c02a05ed",
        "colab": {
          "base_uri": "https://localhost:8080/",
          "height": 433
        }
      },
      "execution_count": null,
      "outputs": [
        {
          "output_type": "error",
          "ename": "DatabaseError",
          "evalue": "ignored",
          "traceback": [
            "\u001b[0;31m---------------------------------------------------------------------------\u001b[0m",
            "\u001b[0;31mOperationalError\u001b[0m                          Traceback (most recent call last)",
            "\u001b[0;32m/usr/local/lib/python3.7/dist-packages/pandas/io/sql.py\u001b[0m in \u001b[0;36mexecute\u001b[0;34m(self, *args, **kwargs)\u001b[0m\n\u001b[1;32m   2055\u001b[0m         \u001b[0;32mtry\u001b[0m\u001b[0;34m:\u001b[0m\u001b[0;34m\u001b[0m\u001b[0;34m\u001b[0m\u001b[0m\n\u001b[0;32m-> 2056\u001b[0;31m             \u001b[0mcur\u001b[0m\u001b[0;34m.\u001b[0m\u001b[0mexecute\u001b[0m\u001b[0;34m(\u001b[0m\u001b[0;34m*\u001b[0m\u001b[0margs\u001b[0m\u001b[0;34m,\u001b[0m \u001b[0;34m**\u001b[0m\u001b[0mkwargs\u001b[0m\u001b[0;34m)\u001b[0m\u001b[0;34m\u001b[0m\u001b[0;34m\u001b[0m\u001b[0m\n\u001b[0m\u001b[1;32m   2057\u001b[0m             \u001b[0;32mreturn\u001b[0m \u001b[0mcur\u001b[0m\u001b[0;34m\u001b[0m\u001b[0;34m\u001b[0m\u001b[0m\n",
            "\u001b[0;31mOperationalError\u001b[0m: no such table: fault_lines",
            "\nThe above exception was the direct cause of the following exception:\n",
            "\u001b[0;31mDatabaseError\u001b[0m                             Traceback (most recent call last)",
            "\u001b[0;32m<ipython-input-1-075721c7bbd5>\u001b[0m in \u001b[0;36m<module>\u001b[0;34m\u001b[0m\n\u001b[1;32m     22\u001b[0m \u001b[0;34m\u001b[0m\u001b[0m\n\u001b[1;32m     23\u001b[0m \u001b[0;34m\u001b[0m\u001b[0m\n\u001b[0;32m---> 24\u001b[0;31m \u001b[0mprint\u001b[0m\u001b[0;34m(\u001b[0m\u001b[0msql_to_csv\u001b[0m\u001b[0;34m(\u001b[0m\u001b[0;34m'all_fault_line.db'\u001b[0m\u001b[0;34m,\u001b[0m\u001b[0;34m'fault_lines'\u001b[0m\u001b[0;34m)\u001b[0m\u001b[0;34m)\u001b[0m\u001b[0;34m\u001b[0m\u001b[0;34m\u001b[0m\u001b[0m\n\u001b[0m\u001b[1;32m     25\u001b[0m \u001b[0;34m\u001b[0m\u001b[0m\n\u001b[1;32m     26\u001b[0m \u001b[0mcsv_to_sql\u001b[0m\u001b[0;34m(\u001b[0m\u001b[0;34m'list_volcano.csv'\u001b[0m\u001b[0;34m,\u001b[0m \u001b[0;34m'list_volcanos.db'\u001b[0m\u001b[0;34m,\u001b[0m\u001b[0;34m'volcanos'\u001b[0m\u001b[0;34m)\u001b[0m\u001b[0;34m\u001b[0m\u001b[0;34m\u001b[0m\u001b[0m\n",
            "\u001b[0;32m<ipython-input-1-075721c7bbd5>\u001b[0m in \u001b[0;36msql_to_csv\u001b[0;34m(database, table_name)\u001b[0m\n\u001b[1;32m      8\u001b[0m     \u001b[0mcursor\u001b[0m \u001b[0;34m=\u001b[0m \u001b[0mconn\u001b[0m\u001b[0;34m.\u001b[0m\u001b[0mcursor\u001b[0m\u001b[0;34m(\u001b[0m\u001b[0;34m)\u001b[0m\u001b[0;34m\u001b[0m\u001b[0;34m\u001b[0m\u001b[0m\n\u001b[1;32m      9\u001b[0m     \u001b[0mquery\u001b[0m \u001b[0;34m=\u001b[0m \u001b[0;34mf\"select * from {table_name}\"\u001b[0m\u001b[0;34m\u001b[0m\u001b[0;34m\u001b[0m\u001b[0m\n\u001b[0;32m---> 10\u001b[0;31m     \u001b[0mresults\u001b[0m \u001b[0;34m=\u001b[0m \u001b[0mpandas\u001b[0m\u001b[0;34m.\u001b[0m\u001b[0mread_sql_query\u001b[0m\u001b[0;34m(\u001b[0m\u001b[0mquery\u001b[0m\u001b[0;34m,\u001b[0m \u001b[0mconn\u001b[0m\u001b[0;34m)\u001b[0m\u001b[0;34m\u001b[0m\u001b[0;34m\u001b[0m\u001b[0m\n\u001b[0m\u001b[1;32m     11\u001b[0m     \u001b[0mresults\u001b[0m\u001b[0;34m.\u001b[0m\u001b[0mto_csv\u001b[0m\u001b[0;34m(\u001b[0m\u001b[0;34m\"list_fault_lines.csv\"\u001b[0m\u001b[0;34m,\u001b[0m \u001b[0mindex\u001b[0m\u001b[0;34m=\u001b[0m\u001b[0;32mFalse\u001b[0m\u001b[0;34m)\u001b[0m\u001b[0;34m\u001b[0m\u001b[0;34m\u001b[0m\u001b[0m\n\u001b[1;32m     12\u001b[0m     \u001b[0;32mwith\u001b[0m \u001b[0mopen\u001b[0m\u001b[0;34m(\u001b[0m\u001b[0;34m\"list_fault_lines.csv\"\u001b[0m\u001b[0;34m,\u001b[0m\u001b[0;34m'r'\u001b[0m\u001b[0;34m)\u001b[0m \u001b[0;32mas\u001b[0m \u001b[0mcsvf\u001b[0m\u001b[0;34m:\u001b[0m\u001b[0;34m\u001b[0m\u001b[0;34m\u001b[0m\u001b[0m\n",
            "\u001b[0;32m/usr/local/lib/python3.7/dist-packages/pandas/io/sql.py\u001b[0m in \u001b[0;36mread_sql_query\u001b[0;34m(sql, con, index_col, coerce_float, params, parse_dates, chunksize, dtype)\u001b[0m\n\u001b[1;32m    441\u001b[0m         \u001b[0mparse_dates\u001b[0m\u001b[0;34m=\u001b[0m\u001b[0mparse_dates\u001b[0m\u001b[0;34m,\u001b[0m\u001b[0;34m\u001b[0m\u001b[0;34m\u001b[0m\u001b[0m\n\u001b[1;32m    442\u001b[0m         \u001b[0mchunksize\u001b[0m\u001b[0;34m=\u001b[0m\u001b[0mchunksize\u001b[0m\u001b[0;34m,\u001b[0m\u001b[0;34m\u001b[0m\u001b[0;34m\u001b[0m\u001b[0m\n\u001b[0;32m--> 443\u001b[0;31m         \u001b[0mdtype\u001b[0m\u001b[0;34m=\u001b[0m\u001b[0mdtype\u001b[0m\u001b[0;34m,\u001b[0m\u001b[0;34m\u001b[0m\u001b[0;34m\u001b[0m\u001b[0m\n\u001b[0m\u001b[1;32m    444\u001b[0m     )\n\u001b[1;32m    445\u001b[0m \u001b[0;34m\u001b[0m\u001b[0m\n",
            "\u001b[0;32m/usr/local/lib/python3.7/dist-packages/pandas/io/sql.py\u001b[0m in \u001b[0;36mread_query\u001b[0;34m(self, sql, index_col, coerce_float, params, parse_dates, chunksize, dtype)\u001b[0m\n\u001b[1;32m   2114\u001b[0m \u001b[0;34m\u001b[0m\u001b[0m\n\u001b[1;32m   2115\u001b[0m         \u001b[0margs\u001b[0m \u001b[0;34m=\u001b[0m \u001b[0m_convert_params\u001b[0m\u001b[0;34m(\u001b[0m\u001b[0msql\u001b[0m\u001b[0;34m,\u001b[0m \u001b[0mparams\u001b[0m\u001b[0;34m)\u001b[0m\u001b[0;34m\u001b[0m\u001b[0;34m\u001b[0m\u001b[0m\n\u001b[0;32m-> 2116\u001b[0;31m         \u001b[0mcursor\u001b[0m \u001b[0;34m=\u001b[0m \u001b[0mself\u001b[0m\u001b[0;34m.\u001b[0m\u001b[0mexecute\u001b[0m\u001b[0;34m(\u001b[0m\u001b[0;34m*\u001b[0m\u001b[0margs\u001b[0m\u001b[0;34m)\u001b[0m\u001b[0;34m\u001b[0m\u001b[0;34m\u001b[0m\u001b[0m\n\u001b[0m\u001b[1;32m   2117\u001b[0m         \u001b[0mcolumns\u001b[0m \u001b[0;34m=\u001b[0m \u001b[0;34m[\u001b[0m\u001b[0mcol_desc\u001b[0m\u001b[0;34m[\u001b[0m\u001b[0;36m0\u001b[0m\u001b[0;34m]\u001b[0m \u001b[0;32mfor\u001b[0m \u001b[0mcol_desc\u001b[0m \u001b[0;32min\u001b[0m \u001b[0mcursor\u001b[0m\u001b[0;34m.\u001b[0m\u001b[0mdescription\u001b[0m\u001b[0;34m]\u001b[0m\u001b[0;34m\u001b[0m\u001b[0;34m\u001b[0m\u001b[0m\n\u001b[1;32m   2118\u001b[0m \u001b[0;34m\u001b[0m\u001b[0m\n",
            "\u001b[0;32m/usr/local/lib/python3.7/dist-packages/pandas/io/sql.py\u001b[0m in \u001b[0;36mexecute\u001b[0;34m(self, *args, **kwargs)\u001b[0m\n\u001b[1;32m   2066\u001b[0m \u001b[0;34m\u001b[0m\u001b[0m\n\u001b[1;32m   2067\u001b[0m             \u001b[0mex\u001b[0m \u001b[0;34m=\u001b[0m \u001b[0mDatabaseError\u001b[0m\u001b[0;34m(\u001b[0m\u001b[0;34mf\"Execution failed on sql '{args[0]}': {exc}\"\u001b[0m\u001b[0;34m)\u001b[0m\u001b[0;34m\u001b[0m\u001b[0;34m\u001b[0m\u001b[0m\n\u001b[0;32m-> 2068\u001b[0;31m             \u001b[0;32mraise\u001b[0m \u001b[0mex\u001b[0m \u001b[0;32mfrom\u001b[0m \u001b[0mexc\u001b[0m\u001b[0;34m\u001b[0m\u001b[0;34m\u001b[0m\u001b[0m\n\u001b[0m\u001b[1;32m   2069\u001b[0m \u001b[0;34m\u001b[0m\u001b[0m\n\u001b[1;32m   2070\u001b[0m     \u001b[0;34m@\u001b[0m\u001b[0mstaticmethod\u001b[0m\u001b[0;34m\u001b[0m\u001b[0;34m\u001b[0m\u001b[0m\n",
            "\u001b[0;31mDatabaseError\u001b[0m: Execution failed on sql 'select * from fault_lines': no such table: fault_lines"
          ]
        }
      ]
    },
    {
      "cell_type": "code",
      "source": [
        "import sqlite3\n",
        "import pandas\n",
        "import warnings\n",
        "warnings.filterwarnings('ignore')\n",
        "\n",
        "def sql_to_csv(database, table_name):\n",
        "    conn = sqlite3.connect(database)\n",
        "    cursor = conn.cursor()\n",
        "    query = f\"select * from {table_name}\"\n",
        "    results = pandas.read_sql_query(query, conn)\n",
        "    results.to_csv(\"list_fault_lines.csv\", index=False)\n",
        "    with open(\"list_fault_lines.csv\",'r') as csvf:\n",
        "        return csvf.read()[:-1]\n",
        "\n",
        "\n",
        "def csv_to_sql(csv_content, database, table_name):\n",
        "    df = pandas.read_csv(csv_content)\n",
        "    df = df.drop_duplicates()\n",
        "    conn = sqlite3.connect(database)\n",
        "    df.to_sql(table_name, con=conn, if_exists='replace', index=False)\n",
        "\n",
        "\n",
        "\n",
        "print(sql_to_csv('all_fault_line.db','fault_lines'))\n",
        "\n",
        "csv_to_sql('list_volcano.csv', 'list_volcanos.db','volcanos')"
      ],
      "metadata": {
        "id": "CMrGdl0V0DTM",
        "outputId": "5956664f-9a71-42c8-e2ac-f12ae1c31236",
        "colab": {
          "base_uri": "https://localhost:8080/",
          "height": 433
        }
      },
      "execution_count": null,
      "outputs": [
        {
          "output_type": "error",
          "ename": "DatabaseError",
          "evalue": "ignored",
          "traceback": [
            "\u001b[0;31m---------------------------------------------------------------------------\u001b[0m",
            "\u001b[0;31mOperationalError\u001b[0m                          Traceback (most recent call last)",
            "\u001b[0;32m/usr/local/lib/python3.7/dist-packages/pandas/io/sql.py\u001b[0m in \u001b[0;36mexecute\u001b[0;34m(self, *args, **kwargs)\u001b[0m\n\u001b[1;32m   2055\u001b[0m         \u001b[0;32mtry\u001b[0m\u001b[0;34m:\u001b[0m\u001b[0;34m\u001b[0m\u001b[0;34m\u001b[0m\u001b[0m\n\u001b[0;32m-> 2056\u001b[0;31m             \u001b[0mcur\u001b[0m\u001b[0;34m.\u001b[0m\u001b[0mexecute\u001b[0m\u001b[0;34m(\u001b[0m\u001b[0;34m*\u001b[0m\u001b[0margs\u001b[0m\u001b[0;34m,\u001b[0m \u001b[0;34m**\u001b[0m\u001b[0mkwargs\u001b[0m\u001b[0;34m)\u001b[0m\u001b[0;34m\u001b[0m\u001b[0;34m\u001b[0m\u001b[0m\n\u001b[0m\u001b[1;32m   2057\u001b[0m             \u001b[0;32mreturn\u001b[0m \u001b[0mcur\u001b[0m\u001b[0;34m\u001b[0m\u001b[0;34m\u001b[0m\u001b[0m\n",
            "\u001b[0;31mOperationalError\u001b[0m: no such table: fault_lines",
            "\nThe above exception was the direct cause of the following exception:\n",
            "\u001b[0;31mDatabaseError\u001b[0m                             Traceback (most recent call last)",
            "\u001b[0;32m<ipython-input-2-075721c7bbd5>\u001b[0m in \u001b[0;36m<module>\u001b[0;34m\u001b[0m\n\u001b[1;32m     22\u001b[0m \u001b[0;34m\u001b[0m\u001b[0m\n\u001b[1;32m     23\u001b[0m \u001b[0;34m\u001b[0m\u001b[0m\n\u001b[0;32m---> 24\u001b[0;31m \u001b[0mprint\u001b[0m\u001b[0;34m(\u001b[0m\u001b[0msql_to_csv\u001b[0m\u001b[0;34m(\u001b[0m\u001b[0;34m'all_fault_line.db'\u001b[0m\u001b[0;34m,\u001b[0m\u001b[0;34m'fault_lines'\u001b[0m\u001b[0;34m)\u001b[0m\u001b[0;34m)\u001b[0m\u001b[0;34m\u001b[0m\u001b[0;34m\u001b[0m\u001b[0m\n\u001b[0m\u001b[1;32m     25\u001b[0m \u001b[0;34m\u001b[0m\u001b[0m\n\u001b[1;32m     26\u001b[0m \u001b[0mcsv_to_sql\u001b[0m\u001b[0;34m(\u001b[0m\u001b[0;34m'list_volcano.csv'\u001b[0m\u001b[0;34m,\u001b[0m \u001b[0;34m'list_volcanos.db'\u001b[0m\u001b[0;34m,\u001b[0m\u001b[0;34m'volcanos'\u001b[0m\u001b[0;34m)\u001b[0m\u001b[0;34m\u001b[0m\u001b[0;34m\u001b[0m\u001b[0m\n",
            "\u001b[0;32m<ipython-input-2-075721c7bbd5>\u001b[0m in \u001b[0;36msql_to_csv\u001b[0;34m(database, table_name)\u001b[0m\n\u001b[1;32m      8\u001b[0m     \u001b[0mcursor\u001b[0m \u001b[0;34m=\u001b[0m \u001b[0mconn\u001b[0m\u001b[0;34m.\u001b[0m\u001b[0mcursor\u001b[0m\u001b[0;34m(\u001b[0m\u001b[0;34m)\u001b[0m\u001b[0;34m\u001b[0m\u001b[0;34m\u001b[0m\u001b[0m\n\u001b[1;32m      9\u001b[0m     \u001b[0mquery\u001b[0m \u001b[0;34m=\u001b[0m \u001b[0;34mf\"select * from {table_name}\"\u001b[0m\u001b[0;34m\u001b[0m\u001b[0;34m\u001b[0m\u001b[0m\n\u001b[0;32m---> 10\u001b[0;31m     \u001b[0mresults\u001b[0m \u001b[0;34m=\u001b[0m \u001b[0mpandas\u001b[0m\u001b[0;34m.\u001b[0m\u001b[0mread_sql_query\u001b[0m\u001b[0;34m(\u001b[0m\u001b[0mquery\u001b[0m\u001b[0;34m,\u001b[0m \u001b[0mconn\u001b[0m\u001b[0;34m)\u001b[0m\u001b[0;34m\u001b[0m\u001b[0;34m\u001b[0m\u001b[0m\n\u001b[0m\u001b[1;32m     11\u001b[0m     \u001b[0mresults\u001b[0m\u001b[0;34m.\u001b[0m\u001b[0mto_csv\u001b[0m\u001b[0;34m(\u001b[0m\u001b[0;34m\"list_fault_lines.csv\"\u001b[0m\u001b[0;34m,\u001b[0m \u001b[0mindex\u001b[0m\u001b[0;34m=\u001b[0m\u001b[0;32mFalse\u001b[0m\u001b[0;34m)\u001b[0m\u001b[0;34m\u001b[0m\u001b[0;34m\u001b[0m\u001b[0m\n\u001b[1;32m     12\u001b[0m     \u001b[0;32mwith\u001b[0m \u001b[0mopen\u001b[0m\u001b[0;34m(\u001b[0m\u001b[0;34m\"list_fault_lines.csv\"\u001b[0m\u001b[0;34m,\u001b[0m\u001b[0;34m'r'\u001b[0m\u001b[0;34m)\u001b[0m \u001b[0;32mas\u001b[0m \u001b[0mcsvf\u001b[0m\u001b[0;34m:\u001b[0m\u001b[0;34m\u001b[0m\u001b[0;34m\u001b[0m\u001b[0m\n",
            "\u001b[0;32m/usr/local/lib/python3.7/dist-packages/pandas/io/sql.py\u001b[0m in \u001b[0;36mread_sql_query\u001b[0;34m(sql, con, index_col, coerce_float, params, parse_dates, chunksize, dtype)\u001b[0m\n\u001b[1;32m    441\u001b[0m         \u001b[0mparse_dates\u001b[0m\u001b[0;34m=\u001b[0m\u001b[0mparse_dates\u001b[0m\u001b[0;34m,\u001b[0m\u001b[0;34m\u001b[0m\u001b[0;34m\u001b[0m\u001b[0m\n\u001b[1;32m    442\u001b[0m         \u001b[0mchunksize\u001b[0m\u001b[0;34m=\u001b[0m\u001b[0mchunksize\u001b[0m\u001b[0;34m,\u001b[0m\u001b[0;34m\u001b[0m\u001b[0;34m\u001b[0m\u001b[0m\n\u001b[0;32m--> 443\u001b[0;31m         \u001b[0mdtype\u001b[0m\u001b[0;34m=\u001b[0m\u001b[0mdtype\u001b[0m\u001b[0;34m,\u001b[0m\u001b[0;34m\u001b[0m\u001b[0;34m\u001b[0m\u001b[0m\n\u001b[0m\u001b[1;32m    444\u001b[0m     )\n\u001b[1;32m    445\u001b[0m \u001b[0;34m\u001b[0m\u001b[0m\n",
            "\u001b[0;32m/usr/local/lib/python3.7/dist-packages/pandas/io/sql.py\u001b[0m in \u001b[0;36mread_query\u001b[0;34m(self, sql, index_col, coerce_float, params, parse_dates, chunksize, dtype)\u001b[0m\n\u001b[1;32m   2114\u001b[0m \u001b[0;34m\u001b[0m\u001b[0m\n\u001b[1;32m   2115\u001b[0m         \u001b[0margs\u001b[0m \u001b[0;34m=\u001b[0m \u001b[0m_convert_params\u001b[0m\u001b[0;34m(\u001b[0m\u001b[0msql\u001b[0m\u001b[0;34m,\u001b[0m \u001b[0mparams\u001b[0m\u001b[0;34m)\u001b[0m\u001b[0;34m\u001b[0m\u001b[0;34m\u001b[0m\u001b[0m\n\u001b[0;32m-> 2116\u001b[0;31m         \u001b[0mcursor\u001b[0m \u001b[0;34m=\u001b[0m \u001b[0mself\u001b[0m\u001b[0;34m.\u001b[0m\u001b[0mexecute\u001b[0m\u001b[0;34m(\u001b[0m\u001b[0;34m*\u001b[0m\u001b[0margs\u001b[0m\u001b[0;34m)\u001b[0m\u001b[0;34m\u001b[0m\u001b[0;34m\u001b[0m\u001b[0m\n\u001b[0m\u001b[1;32m   2117\u001b[0m         \u001b[0mcolumns\u001b[0m \u001b[0;34m=\u001b[0m \u001b[0;34m[\u001b[0m\u001b[0mcol_desc\u001b[0m\u001b[0;34m[\u001b[0m\u001b[0;36m0\u001b[0m\u001b[0;34m]\u001b[0m \u001b[0;32mfor\u001b[0m \u001b[0mcol_desc\u001b[0m \u001b[0;32min\u001b[0m \u001b[0mcursor\u001b[0m\u001b[0;34m.\u001b[0m\u001b[0mdescription\u001b[0m\u001b[0;34m]\u001b[0m\u001b[0;34m\u001b[0m\u001b[0;34m\u001b[0m\u001b[0m\n\u001b[1;32m   2118\u001b[0m \u001b[0;34m\u001b[0m\u001b[0m\n",
            "\u001b[0;32m/usr/local/lib/python3.7/dist-packages/pandas/io/sql.py\u001b[0m in \u001b[0;36mexecute\u001b[0;34m(self, *args, **kwargs)\u001b[0m\n\u001b[1;32m   2066\u001b[0m \u001b[0;34m\u001b[0m\u001b[0m\n\u001b[1;32m   2067\u001b[0m             \u001b[0mex\u001b[0m \u001b[0;34m=\u001b[0m \u001b[0mDatabaseError\u001b[0m\u001b[0;34m(\u001b[0m\u001b[0;34mf\"Execution failed on sql '{args[0]}': {exc}\"\u001b[0m\u001b[0;34m)\u001b[0m\u001b[0;34m\u001b[0m\u001b[0;34m\u001b[0m\u001b[0m\n\u001b[0;32m-> 2068\u001b[0;31m             \u001b[0;32mraise\u001b[0m \u001b[0mex\u001b[0m \u001b[0;32mfrom\u001b[0m \u001b[0mexc\u001b[0m\u001b[0;34m\u001b[0m\u001b[0;34m\u001b[0m\u001b[0m\n\u001b[0m\u001b[1;32m   2069\u001b[0m \u001b[0;34m\u001b[0m\u001b[0m\n\u001b[1;32m   2070\u001b[0m     \u001b[0;34m@\u001b[0m\u001b[0mstaticmethod\u001b[0m\u001b[0;34m\u001b[0m\u001b[0;34m\u001b[0m\u001b[0m\n",
            "\u001b[0;31mDatabaseError\u001b[0m: Execution failed on sql 'select * from fault_lines': no such table: fault_lines"
          ]
        }
      ]
    }
  ]
}